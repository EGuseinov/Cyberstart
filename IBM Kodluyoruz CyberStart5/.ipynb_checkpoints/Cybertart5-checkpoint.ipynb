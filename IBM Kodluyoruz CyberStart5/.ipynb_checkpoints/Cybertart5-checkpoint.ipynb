{
 "cells": [
  {
   "cell_type": "markdown",
   "id": "dcbb41d1-e199-4211-8632-0fb82f07b881",
   "metadata": {},
   "source": [
    "Cyberstart #5²\r\n",
    "\r\n",
    "Öklid mesafesi, Öklid uzayındaki iki nokta arasındaki \"sıradan\" düz çizgi mesafesidir. Bu formül ile, düzlemde veya üç boyutlu uzayda iki nokta arasındaki mesafeyi bulabilirsiniz.\r\n",
    "\r\n",
    "Göreviniz:\r\n",
    "\r\n",
    "Python'da fonksiyonlar ve döngüler kavramlarını kullanarak, aşağıdaki işlemleri gerçekleştiren bir program yazmanız gerekmektedir:\r\n",
    "\r\n",
    "Noktaların Tanımlanması:\r\n",
    "\r\n",
    "‘points’ adında bir liste oluşturun. Bu liste, 2D uzaydaki noktaları temsil eden demetler (tuple) içermelidir. Örneğin, ‘(x, y)’ noktası bir demet ‘(x, y)’ olarak temsil edilecektir.\r\n",
    "\r\n",
    "Öklid Mesafesi İçin Bir Fonksiyon Yazma:\r\n",
    "\r\n",
    "‘euclideanDistance’ adında bir fonksiyon tanımlayın. Bu fonksiyon, iki demet (her biri bir noktayı temsil eder) almalı ve bu iki nokta arasındaki Öklid mesafesini döndürmelidir.\r\n",
    "\r\n",
    "Mesafelerin Hesaplanması:\r\n",
    "\r\n",
    "Bir döngü kullanarak, ‘points’ listesindeki her nokta çifti arasındaki Öklid mesafesini hesaplayın. Bu mesafeleri ‘distances’ adında başka bir listede saklayın.\r\n",
    "\r\n",
    "Minimum Mesafenin Bulunması:\r\n",
    "\r\n",
    "‘distances’ listesinden minimum mesafeyi bulun ve yazdırın.\r\n",
    "\r\n",
    "\r\n",
    "Not: Eğer daha zorlayıcı bir görevlendirme istiyorsanız herhangi bir kütüphane ve modül kullanmadan da yapabilrsiniz.\r\n",
    "\r\n",
    "Görevi Oryantasyon haftasında öğrendiğiniz gibi GİtHub üzerinden paylaşın."
   ]
  },
  {
   "cell_type": "code",
   "execution_count": 1,
   "id": "5d8950c7-2a62-4b90-9738-83623008b48e",
   "metadata": {},
   "outputs": [
    {
     "name": "stdout",
     "output_type": "stream",
     "text": [
      "[2.23606797749979, 5.0, 12.806248474865697, 51.73973328110612, 18.788294228055936, 3.1622776601683795, 10.816653826391969, 49.678969393496885, 17.08800749063506, 10.44030650891055, 48.60041152089147, 17.26267650163207, 38.948684188300895, 7.0, 34.058772731852805]\n",
      "2.23606797749979\n"
     ]
    }
   ],
   "source": [
    "points = [(4,6) , (6 ,7) , (9, 6) , (12,16) , (38,45) , (12 , 23)]\n",
    "\n",
    "def euclideanDistance( point_1 , point_2):\n",
    "  return ((point_1[0] - point_2[0])**2 + (point_1[1] - point_2[1])**2)**0.5\n",
    "\n",
    "distances = [ euclideanDistance(points[i], points[j]) for i in range(len(points)) for j in range (i+1 , len(points)) ]\n",
    "\n",
    "print(distances)\n",
    "print(min(distances))"
   ]
  }
 ],
 "metadata": {
  "kernelspec": {
   "display_name": "Python 3 (ipykernel)",
   "language": "python",
   "name": "python3"
  },
  "language_info": {
   "codemirror_mode": {
    "name": "ipython",
    "version": 3
   },
   "file_extension": ".py",
   "mimetype": "text/x-python",
   "name": "python",
   "nbconvert_exporter": "python",
   "pygments_lexer": "ipython3",
   "version": "3.12.4"
  }
 },
 "nbformat": 4,
 "nbformat_minor": 5
}
